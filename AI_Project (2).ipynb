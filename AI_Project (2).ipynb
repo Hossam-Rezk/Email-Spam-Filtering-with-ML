{
  "cells": [
    {
      "cell_type": "markdown",
      "metadata": {
        "id": "_dsDiaadRaW_"
      },
      "source": [
        "## Important libraries"
      ]
    },
    {
      "cell_type": "code",
      "execution_count": null,
      "metadata": {
        "id": "UJUEMRbARaXD"
      },
      "outputs": [],
      "source": [
        "import math\n",
        "import numpy as np\n",
        "import pandas as pd\n",
        "import scipy as sc\n",
        "import seaborn as sns\n",
        "import nltk\n",
        "import pickle\n",
        "import ast\n",
        "import matplotlib.pyplot as plt\n",
        "from nltk.corpus import stopwords\n",
        "from nltk.tokenize import TweetTokenizer\n",
        "from nltk.stem.porter import PorterStemmer\n",
        "from nltk.stem import WordNetLemmatizer\n",
        "import re\n",
        "from sklearn.model_selection import train_test_split\n",
        "from sklearn.multioutput import MultiOutputClassifier\n",
        "from sklearn.feature_extraction.text import CountVectorizer,TfidfVectorizer\n",
        "from sklearn.preprocessing import StandardScaler,MinMaxScaler,OneHotEncoder\n",
        "from sklearn.model_selection import KFold, cross_val_score\n",
        "from sklearn.linear_model import LogisticRegression\n",
        "from sklearn.metrics import accuracy_score, confusion_matrix,classification_report\n",
        "from sklearn.svm import SVC\n",
        "from sklearn.tree import DecisionTreeClassifier\n",
        "from sklearn.ensemble import RandomForestClassifier\n",
        "from sklearn.neighbors import KNeighborsClassifier\n",
        "from sklearn.naive_bayes import GaussianNB\n",
        "from imblearn.over_sampling import SMOTE\n",
        "# Downloading NLTK data\n",
        "#nltk.download('punkt')       # Downloading tokenizer data\n",
        "#nltk.download('stopwords')   # Downloading stopwords data\n",
        "#nltk.download('wordnet')"
      ]
    },
    {
      "cell_type": "markdown",
      "metadata": {
        "id": "enssaCtQRaXE"
      },
      "source": [
        "## Read and show the data"
      ]
    },
    {
      "cell_type": "code",
      "execution_count": null,
      "metadata": {
        "colab": {
          "base_uri": "https://localhost:8080/",
          "height": 206
        },
        "id": "52es26qTRaXF",
        "outputId": "4f12b652-9eae-4248-e097-8596477ae9aa"
      },
      "outputs": [],
      "source": [
        "df=pd.read_csv(\"spam_ham_dataset.csv\")\n",
        "df.head()"
      ]
    },
    {
      "cell_type": "markdown",
      "metadata": {
        "id": "GLeTfWhgRaXG"
      },
      "source": [
        "## Cleaning the data"
      ]
    },
    {
      "cell_type": "code",
      "execution_count": null,
      "metadata": {
        "colab": {
          "base_uri": "https://localhost:8080/",
          "height": 206
        },
        "id": "eJHgcKHcRaXG",
        "outputId": "c0673208-e927-42a6-e780-74840862b6a3"
      },
      "outputs": [],
      "source": [
        "df.drop([\"label\"],axis=1,inplace=True) #drop unnecessary column\n",
        "df.head()"
      ]
    },
    {
      "cell_type": "code",
      "execution_count": null,
      "metadata": {
        "colab": {
          "base_uri": "https://localhost:8080/"
        },
        "id": "guSUoURZRaXG",
        "outputId": "f9cbee0a-ac32-4398-9d79-353beabfd769"
      },
      "outputs": [],
      "source": [
        "df.isnull().sum() #no missing values in all rows"
      ]
    },
    {
      "cell_type": "code",
      "execution_count": null,
      "metadata": {
        "colab": {
          "base_uri": "https://localhost:8080/"
        },
        "id": "zS1aM22qRaXH",
        "outputId": "494799dc-118c-4bfa-d844-c54fcd0548d3"
      },
      "outputs": [],
      "source": [
        "df[df[\"# sent emails \"]<0].sum() #no negative number of emails"
      ]
    },
    {
      "cell_type": "code",
      "execution_count": null,
      "metadata": {
        "colab": {
          "base_uri": "https://localhost:8080/"
        },
        "id": "wCbBps-VRaXH",
        "outputId": "c714ca74-30ff-41e9-f618-df9a2dbbd18d"
      },
      "outputs": [],
      "source": [
        "df[\"text\"].duplicated().sum() #check duplicate email"
      ]
    },
    {
      "cell_type": "code",
      "execution_count": null,
      "metadata": {
        "id": "-ZE79wDxRaXI"
      },
      "outputs": [],
      "source": [
        "df.drop_duplicates(subset=[\"text\"],inplace=True) #drop duplicated emails"
      ]
    },
    {
      "cell_type": "code",
      "execution_count": null,
      "metadata": {
        "colab": {
          "base_uri": "https://localhost:8080/"
        },
        "id": "ECue0eUERaXI",
        "outputId": "00ec9e9b-ad0d-4b03-f236-0c7b32860306"
      },
      "outputs": [],
      "source": [
        "df[\"# sent emails \"].duplicated().sum() #check duplicate email"
      ]
    },
    {
      "cell_type": "code",
      "execution_count": null,
      "metadata": {
        "colab": {
          "base_uri": "https://localhost:8080/"
        },
        "id": "hUnIY_EbRaXJ",
        "outputId": "c1eaa88b-f098-423c-b632-17bfd75236aa"
      },
      "outputs": [],
      "source": [
        "df['label_num'].unique()"
      ]
    },
    {
      "cell_type": "code",
      "execution_count": null,
      "metadata": {
        "colab": {
          "base_uri": "https://localhost:8080/"
        },
        "id": "r7jAij3ARaXJ",
        "outputId": "4c9e7a38-c2d4-4b65-ead2-b3e37e89eba3"
      },
      "outputs": [],
      "source": [
        "df.isna().sum()"
      ]
    },
    {
      "cell_type": "markdown",
      "metadata": {
        "id": "er2LxkL-RaXJ"
      },
      "source": [
        "## show information about the data"
      ]
    },
    {
      "cell_type": "code",
      "execution_count": null,
      "metadata": {
        "colab": {
          "base_uri": "https://localhost:8080/"
        },
        "id": "ilB81qgmRaXJ",
        "outputId": "2e015c9a-0974-403a-992d-8770dfa652b5"
      },
      "outputs": [],
      "source": [
        "df.info()"
      ]
    },
    {
      "cell_type": "code",
      "execution_count": null,
      "metadata": {
        "colab": {
          "base_uri": "https://localhost:8080/",
          "height": 300
        },
        "id": "jes3omq8RaXK",
        "outputId": "b29eea63-fe28-4232-e224-bcde95ecdb6a"
      },
      "outputs": [],
      "source": [
        "df.describe()"
      ]
    },
    {
      "cell_type": "markdown",
      "metadata": {
        "id": "_OvGcqliRaXK"
      },
      "source": [
        "## Visualization of data"
      ]
    },
    {
      "cell_type": "code",
      "execution_count": null,
      "metadata": {
        "colab": {
          "base_uri": "https://localhost:8080/",
          "height": 467
        },
        "id": "xqPfQbahRaXK",
        "outputId": "859fff85-6488-4181-8b9a-524a9bab4a6a"
      },
      "outputs": [],
      "source": [
        "sns.barplot(x='label_num',y='# sent emails ',data=df)"
      ]
    },
    {
      "cell_type": "code",
      "execution_count": null,
      "metadata": {
        "colab": {
          "base_uri": "https://localhost:8080/",
          "height": 467
        },
        "id": "TrBjOi3IRaXK",
        "outputId": "0e49baea-c105-41ac-f126-f7ca466c93ab"
      },
      "outputs": [],
      "source": [
        "sns.boxplot(x='label_num',y='# sent emails ',data=df)"
      ]
    },
    {
      "cell_type": "code",
      "execution_count": null,
      "metadata": {
        "colab": {
          "base_uri": "https://localhost:8080/",
          "height": 524
        },
        "id": "5WxXT3dZRaXL",
        "outputId": "9a4916a0-1da7-4e84-9fcb-fb2157a452b2"
      },
      "outputs": [],
      "source": [
        "sns.displot(df['# sent emails '])"
      ]
    },
    {
      "cell_type": "code",
      "execution_count": null,
      "metadata": {
        "colab": {
          "base_uri": "https://localhost:8080/",
          "height": 624
        },
        "id": "diuXxYm7RaXL",
        "outputId": "79fa570f-168e-483d-affb-d363dc043312"
      },
      "outputs": [],
      "source": [
        "sns.jointplot(data=df,x=df['label_num'],y=df['# sent emails '])"
      ]
    },
    {
      "cell_type": "code",
      "execution_count": null,
      "metadata": {
        "colab": {
          "base_uri": "https://localhost:8080/",
          "height": 467
        },
        "id": "mcdsH9dURaXL",
        "outputId": "e863ab32-62fb-440a-d5d2-f2d1611606d5"
      },
      "outputs": [],
      "source": [
        "sns.countplot(data=df,x=df[\"label_num\"])"
      ]
    },
    {
      "cell_type": "markdown",
      "metadata": {
        "id": "2NbSI6u3RaXL"
      },
      "source": [
        "## Preprocessing for the data"
      ]
    },
    {
      "cell_type": "code",
      "execution_count": null,
      "metadata": {
        "id": "mbKJ2rSiRaXL"
      },
      "outputs": [],
      "source": [
        "minmax_scaler=MinMaxScaler()\n",
        "df['# sent emails ']=minmax_scaler.fit_transform(df['# sent emails '].values.reshape(-1,1))"
      ]
    },
    {
      "cell_type": "code",
      "execution_count": null,
      "metadata": {
        "colab": {
          "base_uri": "https://localhost:8080/",
          "height": 206
        },
        "id": "QXAaqtnZRaXL",
        "outputId": "6dcfbcd0-a727-4ca8-f6b1-fe1be36b01b0"
      },
      "outputs": [],
      "source": [
        "df.head()"
      ]
    },
    {
      "cell_type": "code",
      "execution_count": null,
      "metadata": {
        "colab": {
          "base_uri": "https://localhost:8080/"
        },
        "id": "EEfIua_pRaXL",
        "outputId": "1bc803df-eee3-45b0-a148-f1f5b291f43d"
      },
      "outputs": [],
      "source": [
        "df['# sent emails '].corr(df['label_num'])"
      ]
    },
    {
      "cell_type": "code",
      "execution_count": null,
      "metadata": {
        "colab": {
          "base_uri": "https://localhost:8080/",
          "height": 174
        },
        "id": "ANZzrXyrRaXM",
        "outputId": "c4fc31f7-5ea5-47f9-9d7d-f4f9d1345563"
      },
      "outputs": [],
      "source": [
        "def preprocess(email):\n",
        "    email=re.sub(\"^Subject: \",\"\",email) #remove (Subject: )\n",
        "    email=re.sub(\"[^a-zA-Z]\",\" \",email) #remove special characters\n",
        "    #email=re.sub(\"\\s\\w\\s\",\"\",email) # remove s in 's and t in 't (like book's cover or he can't)\n",
        "    email=re.sub(\"^\\s+\",\"\",email) #remove leading space\n",
        "    email=re.sub(\"\\s+$\",\"\",email) #remove trailing space\n",
        "    email=re.sub(\"\\s+\",\" \",email) #remove extra spaces between words\n",
        "    email=email.lower()           #lowercase every word\n",
        "\n",
        "    return email\n",
        "#test\n",
        "\n",
        "x=preprocess(df.loc[2,\"text\"])\n",
        "x\n"
      ]
    },
    {
      "cell_type": "code",
      "execution_count": null,
      "metadata": {
        "colab": {
          "base_uri": "https://localhost:8080/"
        },
        "id": "9gJE5S3ZRaXM",
        "outputId": "12888aa9-c5a7-4515-9cb6-a4e8c2ef5d54"
      },
      "outputs": [],
      "source": [
        "def tokenize(email):\n",
        "     list_of_words=nltk.word_tokenize(email)\n",
        "     return list_of_words\n",
        "#test\n",
        "\n",
        "listx=tokenize(x)\n",
        "print(listx)"
      ]
    },
    {
      "cell_type": "code",
      "execution_count": null,
      "metadata": {
        "colab": {
          "base_uri": "https://localhost:8080/"
        },
        "id": "11aamjvrRaXM",
        "outputId": "f674c053-0e18-42af-dc06-0a975f621f72"
      },
      "outputs": [],
      "source": [
        "def remove_stopwords(email):\n",
        "   clean_words=[]\n",
        "   list_of_words=tokenize(email)\n",
        "\n",
        "   for word in list_of_words:\n",
        "      if(word not in stopwords.words('english')):\n",
        "         clean_words.append(word)\n",
        "\n",
        "   email=' '.join(clean_words) #convert list to string with seperator between every element (' ')\n",
        "\n",
        "   return email\n",
        "  #test\n",
        "x=preprocess(df.loc[14,\"text\"])\n",
        "xnew=remove_stopwords(x)\n",
        "print(tokenize(xnew))\n",
        "\n"
      ]
    },
    {
      "cell_type": "code",
      "execution_count": null,
      "metadata": {
        "colab": {
          "base_uri": "https://localhost:8080/",
          "height": 35
        },
        "id": "P-TB1CsjRaXM",
        "outputId": "c79eb78a-b0ca-492e-cf07-6241dacf7b40"
      },
      "outputs": [],
      "source": [
        "def lemmatize_email(email):\n",
        "    lemmatized_words=[]\n",
        "\n",
        "    lemmatizer=WordNetLemmatizer()\n",
        "    for word in tokenize(email):\n",
        "        new_word=lemmatizer.lemmatize(word)\n",
        "        lemmatized_words.append(new_word)\n",
        "    email=' '.join(lemmatized_words)\n",
        "    return email\n",
        "\n",
        "#test\n",
        "x=preprocess(df.loc[14,\"text\"])\n",
        "xnew=remove_stopwords(x)\n",
        "xnew2=lemmatize_email(xnew)\n",
        "xnew2\n",
        "\n"
      ]
    },
    {
      "cell_type": "code",
      "execution_count": null,
      "metadata": {
        "id": "FXN77OetRaXM"
      },
      "outputs": [],
      "source": [
        "# apply the functions of preprocessing on the text column\n",
        "emails=df['text'].apply(preprocess)\n",
        "emails=emails.apply(remove_stopwords)\n",
        "emails=emails.apply(lemmatize_email)\n",
        "df['preprocessed_text']=emails"
      ]
    },
    {
      "cell_type": "code",
      "execution_count": null,
      "metadata": {
        "colab": {
          "base_uri": "https://localhost:8080/",
          "height": 206
        },
        "id": "CUBGDeg_RaXM",
        "outputId": "484cbf02-c553-4a3d-c89d-9437d9a94b4d"
      },
      "outputs": [],
      "source": [
        "df.head()"
      ]
    },
    {
      "cell_type": "code",
      "execution_count": null,
      "metadata": {
        "id": "_k8VCTfLRaXN"
      },
      "outputs": [],
      "source": [
        "df.drop('text',axis=1,inplace=True)"
      ]
    },
    {
      "cell_type": "code",
      "execution_count": null,
      "metadata": {
        "id": "CxgFnVxsRaXN"
      },
      "outputs": [],
      "source": [
        "#convert to vectors\n",
        "# Initialize TfidfVectorizer with adjusted parameters\n",
        "tfidf_vectorizer = TfidfVectorizer()\n",
        "\n",
        "# Fit and transform text data\n",
        "tfidf_matrix = tfidf_vectorizer.fit_transform(df['preprocessed_text'])"
      ]
    },
    {
      "cell_type": "code",
      "execution_count": null,
      "metadata": {
        "id": "2OYd6FIGRaXN"
      },
      "outputs": [],
      "source": [
        "vectors=tfidf_matrix.toarray()"
      ]
    },
    {
      "cell_type": "code",
      "execution_count": null,
      "metadata": {
        "colab": {
          "base_uri": "https://localhost:8080/"
        },
        "id": "Z6u6IRfORaXN",
        "outputId": "f0d28ecd-1abd-43a4-ea62-d5db27d75dd6"
      },
      "outputs": [],
      "source": [
        "df.info()"
      ]
    },
    {
      "cell_type": "code",
      "execution_count": null,
      "metadata": {
        "colab": {
          "base_uri": "https://localhost:8080/",
          "height": 206
        },
        "id": "lcEXPWegRaXN",
        "outputId": "7cc038d6-6be1-4b15-9a9a-c02a60367d7b"
      },
      "outputs": [],
      "source": [
        "df.head()"
      ]
    },
    {
      "cell_type": "code",
      "execution_count": null,
      "metadata": {
        "id": "viP38-DBRaXN"
      },
      "outputs": [],
      "source": [
        "def onehotendoder(df):\n",
        "    label_0=[]\n",
        "    label_1=[]\n",
        "    labels=[]\n",
        "    for i in range(len(df)):\n",
        "        if df['label_num'].iloc[i]==0:\n",
        "            label_0.append(1.0)\n",
        "            label_1.append(0.0)\n",
        "            labels.append([1.0,0.0])\n",
        "        elif df['label_num'].iloc[i]==1:\n",
        "            label_0.append(0.0)\n",
        "            label_1.append(1.0)\n",
        "            labels.append([0.0,1.0])\n",
        "    df['label_num_0']=np.array(label_0)\n",
        "    df['label_num_1']=np.array(label_1)\n",
        "    labels=np.array(labels)\n",
        "    return df,labels\n",
        "df,labels=onehotendoder(df)"
      ]
    },
    {
      "cell_type": "code",
      "execution_count": null,
      "metadata": {
        "colab": {
          "base_uri": "https://localhost:8080/",
          "height": 206
        },
        "id": "XoQ9UD5eRaXO",
        "outputId": "35e41d03-0c19-4f8a-b9f8-0b389a2156ff"
      },
      "outputs": [],
      "source": [
        "df.head()"
      ]
    },
    {
      "cell_type": "code",
      "execution_count": null,
      "metadata": {
        "id": "03StRQhqRaXX"
      },
      "outputs": [],
      "source": [
        "df.drop('label_num',axis=1,inplace=True)"
      ]
    },
    {
      "cell_type": "code",
      "execution_count": null,
      "metadata": {
        "colab": {
          "base_uri": "https://localhost:8080/",
          "height": 206
        },
        "id": "QUxwmTWhRaXX",
        "outputId": "b564bd3b-d51f-4a85-831b-64ee2ea105ed"
      },
      "outputs": [],
      "source": [
        "df.head()"
      ]
    },
    {
      "cell_type": "markdown",
      "metadata": {
        "id": "Memf73kHRaXX"
      },
      "source": [
        "## Save the vectors of preprocessed emails in pickle"
      ]
    },
    {
      "cell_type": "code",
      "execution_count": null,
      "metadata": {},
      "outputs": [],
      "source": [
        "pickle.dump(tfidf_vectorizer,open('vectorizer.pkl','wb'))"
      ]
    },
    {
      "cell_type": "code",
      "execution_count": null,
      "metadata": {},
      "outputs": [],
      "source": [
        "file = open('vectorizer.pkl', 'rb')\n",
        "vectorizer = pickle.load(file)"
      ]
    },
    {
      "cell_type": "code",
      "execution_count": null,
      "metadata": {
        "id": "6laEkm_5RaXX"
      },
      "outputs": [],
      "source": [
        "pickle.dump(vectors,open('vectors.pkl','wb'))"
      ]
    },
    {
      "cell_type": "code",
      "execution_count": null,
      "metadata": {
        "id": "B5C9zjoFRaXX"
      },
      "outputs": [],
      "source": [
        "file = open('vectors.pkl', 'rb')\n",
        "vectors = pickle.load(file)"
      ]
    },
    {
      "cell_type": "markdown",
      "metadata": {
        "id": "MrC1rejaRaXX"
      },
      "source": [
        "## divide the data to X and Y"
      ]
    },
    {
      "cell_type": "code",
      "execution_count": null,
      "metadata": {
        "id": "t2OFlTzlRaXY"
      },
      "outputs": [],
      "source": [
        "X=vectors\n",
        "Y=df[['label_num_0','label_num_1']].values"
      ]
    },
    {
      "cell_type": "markdown",
      "metadata": {
        "id": "yS17A7Z7RaXY"
      },
      "source": [
        "## Spliting to train and test data"
      ]
    },
    {
      "cell_type": "code",
      "execution_count": null,
      "metadata": {
        "id": "EtNEcOfmRaXY"
      },
      "outputs": [],
      "source": [
        "x_train,x_test,y_train,y_test=train_test_split(X,Y,test_size=0.2,random_state=42)"
      ]
    },
    {
      "cell_type": "code",
      "execution_count": null,
      "metadata": {
        "id": "fuvFElD0RaXY"
      },
      "outputs": [],
      "source": [
        "# Apply SMOTE to the training data only to solve imbalance data by oversampling\n",
        "smote = SMOTE(random_state=42)\n",
        "X_train_resampled, y_train_resampled = smote.fit_resample(x_train, y_train)"
      ]
    },
    {
      "cell_type": "code",
      "execution_count": null,
      "metadata": {
        "colab": {
          "base_uri": "https://localhost:8080/"
        },
        "id": "44Nrn0rbRaXY",
        "outputId": "b985ddf9-4cb8-40bc-8058-4ca604c15069"
      },
      "outputs": [],
      "source": [
        "y_train_resampled"
      ]
    },
    {
      "cell_type": "code",
      "execution_count": null,
      "metadata": {
        "id": "-Ww2beusRaXY"
      },
      "outputs": [],
      "source": [
        "y_train_resampled=OneHotEncoder().fit_transform(y_train_resampled)"
      ]
    },
    {
      "cell_type": "code",
      "execution_count": null,
      "metadata": {
        "colab": {
          "base_uri": "https://localhost:8080/"
        },
        "id": "dTkEU4rBRaXY",
        "outputId": "ec036f0b-18b2-4dac-8f09-29911cfe787d"
      },
      "outputs": [],
      "source": [
        "y_train_resampled=y_train_resampled.toarray()\n",
        "y_train_resampled"
      ]
    },
    {
      "cell_type": "markdown",
      "metadata": {
        "id": "KrQn_NhyRaXZ"
      },
      "source": [
        "## Training the models"
      ]
    },
    {
      "cell_type": "code",
      "execution_count": null,
      "metadata": {
        "colab": {
          "base_uri": "https://localhost:8080/",
          "height": 118
        },
        "id": "wib3O7bBRaXZ",
        "outputId": "c8c32d66-31f3-495f-f29d-8d4dbe953ef4"
      },
      "outputs": [],
      "source": [
        "lrc = LogisticRegression(solver='liblinear',penalty='l2',C=1.0)\n",
        "multi_target_lrc = MultiOutputClassifier(lrc, n_jobs=-1)\n",
        "multi_target_lrc.fit(X_train_resampled, y_train_resampled)"
      ]
    },
    {
      "cell_type": "code",
      "execution_count": null,
      "metadata": {
        "id": "9vNkuKdTRaXZ"
      },
      "outputs": [],
      "source": [
        "y_pred_train1 =multi_target_lrc.predict(X_train_resampled)\n",
        "y_pred_test1 =multi_target_lrc.predict(x_test)"
      ]
    },
    {
      "cell_type": "code",
      "execution_count": null,
      "metadata": {
        "colab": {
          "base_uri": "https://localhost:8080/"
        },
        "id": "LadNNOAqRaXZ",
        "outputId": "3643dfdf-247d-4322-e4b2-57b812066624"
      },
      "outputs": [],
      "source": [
        "train_accuracy1 = accuracy_score(y_train_resampled, y_pred_train1)\n",
        "test_accuracy1 = accuracy_score(y_test, y_pred_test1)\n",
        "print(\"training accuracy of lrc : \",str(round(train_accuracy1*100,2)),'%')\n",
        "print(\"testing  accuracy of lrc : \",str(round(test_accuracy1*100,2)),'%')"
      ]
    },
    {
      "cell_type": "code",
      "execution_count": null,
      "metadata": {
        "id": "68YYI3NARaXZ",
        "outputId": "8ce68c59-ae88-44f8-95dd-ce6f526a75fb"
      },
      "outputs": [],
      "source": [
        "k_fold=KFold(n_splits = 5)\n",
        "scores1=cross_val_score(multi_target_lrc,X,Y,cv=k_fold)\n",
        "print(\"scores after applying cross validation of lrc : \",str(scores1))\n",
        "print(\"average of scores of lrc : \",str(scores1.mean()))"
      ]
    },
    {
      "cell_type": "code",
      "execution_count": null,
      "metadata": {
        "colab": {
          "base_uri": "https://localhost:8080/",
          "height": 118
        },
        "id": "dwWP8diYRaXZ",
        "outputId": "fea9991f-8b3c-4af8-e522-db8ef5e46189"
      },
      "outputs": [],
      "source": [
        "svc = SVC(kernel='sigmoid',C=1.0)\n",
        "multi_target_svc = MultiOutputClassifier(svc, n_jobs=-1)\n",
        "multi_target_svc.fit(X_train_resampled, y_train_resampled)"
      ]
    },
    {
      "cell_type": "code",
      "execution_count": null,
      "metadata": {
        "id": "VEjduKyNRaXa"
      },
      "outputs": [],
      "source": [
        "y_pred_train2 =multi_target_svc.predict(X_train_resampled)\n",
        "y_pred_test2 =multi_target_svc.predict(x_test)"
      ]
    },
    {
      "cell_type": "code",
      "execution_count": null,
      "metadata": {
        "colab": {
          "base_uri": "https://localhost:8080/"
        },
        "id": "W14sg9HoRaXa",
        "outputId": "dae07efd-d458-4895-a83e-5432df56bcff"
      },
      "outputs": [],
      "source": [
        "train_accuracy2 = accuracy_score(y_train_resampled, y_pred_train2)\n",
        "test_accuracy2 = accuracy_score(y_test, y_pred_test2)\n",
        "print(\"training accuracy of SVC : \",str(round(train_accuracy2*100,2)),'%')\n",
        "print(\"testing  accuracy of SVC : \",str(round(test_accuracy2*100,2)),'%')"
      ]
    },
    {
      "cell_type": "code",
      "execution_count": null,
      "metadata": {
        "id": "6IU85BwBRaXa",
        "outputId": "648c21ba-fa14-408a-d2e7-8752c4e2cd59"
      },
      "outputs": [],
      "source": [
        "scores2=cross_val_score(multi_target_svc,X,Y,cv=k_fold)\n",
        "print(\"scores after applying cross validation of SVC : \",str(scores2))\n",
        "print(\"average of scores of SVC : \",str(scores2.mean()))"
      ]
    },
    {
      "cell_type": "code",
      "execution_count": null,
      "metadata": {
        "colab": {
          "base_uri": "https://localhost:8080/",
          "height": 118
        },
        "id": "WnSntMbYRaXa",
        "outputId": "cfb2d13e-2a57-4af5-b9c3-d0ae1c0d1ef4"
      },
      "outputs": [],
      "source": [
        "DTC = DecisionTreeClassifier(criterion='gini',max_depth=12,random_state=42)\n",
        "multi_target_DTC = MultiOutputClassifier(DTC, n_jobs=-1)\n",
        "multi_target_DTC.fit(X_train_resampled, y_train_resampled)"
      ]
    },
    {
      "cell_type": "code",
      "execution_count": null,
      "metadata": {
        "id": "5VY8EdMyRaXa"
      },
      "outputs": [],
      "source": [
        "y_pred_train3 =multi_target_DTC.predict(X_train_resampled)\n",
        "y_pred_test3 =multi_target_DTC.predict(x_test)"
      ]
    },
    {
      "cell_type": "code",
      "execution_count": null,
      "metadata": {
        "colab": {
          "base_uri": "https://localhost:8080/"
        },
        "id": "WJ0RHk5LRaXa",
        "outputId": "a1e28cdd-c700-4c35-af90-b50198103a29"
      },
      "outputs": [],
      "source": [
        "train_accuracy3 = accuracy_score(y_train_resampled, y_pred_train3)\n",
        "test_accuracy3 = accuracy_score(y_test, y_pred_test3)\n",
        "print(\"training accuracy of DTC : \",str(round(train_accuracy3*100,2)),'%')\n",
        "print(\"testing  accuracy of DTC : \",str(round(test_accuracy3*100,2)),'%')"
      ]
    },
    {
      "cell_type": "code",
      "execution_count": null,
      "metadata": {
        "id": "WJ2ZACSzRaXb"
      },
      "outputs": [],
      "source": [
        "KNN = KNeighborsClassifier(n_neighbors=3,p=2,algorithm='auto')\n",
        "multi_target_KNN = MultiOutputClassifier(KNN, n_jobs=-1)\n",
        "multi_target_KNN.fit(X_train_resampled, y_train_resampled)"
      ]
    },
    {
      "cell_type": "code",
      "execution_count": null,
      "metadata": {
        "id": "FmepH1b9RaXb"
      },
      "outputs": [],
      "source": [
        "y_pred_train4 =multi_target_KNN.predict(X_train_resampled)\n",
        "y_pred_test4 =multi_target_KNN.predict(x_test)"
      ]
    },
    {
      "cell_type": "code",
      "execution_count": null,
      "metadata": {
        "id": "GZcjoeVoRaXb",
        "outputId": "2bbe8262-af25-4524-e4e4-d18a1763d041"
      },
      "outputs": [],
      "source": [
        "train_accuracy4 = accuracy_score(y_train_resampled, y_pred_train4)\n",
        "test_accuracy4 = accuracy_score(y_test, y_pred_test4)\n",
        "print(\"training accuracy of KNN : \",str(round(train_accuracy4*100,2)),'%')\n",
        "print(\"testing  accuracy of KNN : \",str(round(test_accuracy4*100,2)),'%')"
      ]
    },
    {
      "cell_type": "code",
      "execution_count": null,
      "metadata": {
        "id": "5p4VdBjARaXb",
        "outputId": "8790199c-3f57-4030-c00d-6e6a52353a18"
      },
      "outputs": [],
      "source": [
        "RFC = RandomForestClassifier(n_estimators=100,criterion='gini',max_depth=12,random_state=42)\n",
        "multi_target_RFC = MultiOutputClassifier(RFC, n_jobs=-1)\n",
        "multi_target_RFC.fit(X_train_resampled, y_train_resampled)"
      ]
    },
    {
      "cell_type": "code",
      "execution_count": null,
      "metadata": {
        "id": "nPcg4HeGRaXb"
      },
      "outputs": [],
      "source": [
        "y_pred_train5 =multi_target_RFC.predict(X_train_resampled)\n",
        "y_pred_test5 =multi_target_RFC.predict(x_test)"
      ]
    },
    {
      "cell_type": "code",
      "execution_count": null,
      "metadata": {
        "id": "7B7n6oD1RaXc",
        "outputId": "f33e7f36-d9db-4dd6-c7e2-6ea36faa8e16"
      },
      "outputs": [],
      "source": [
        "train_accuracy5 = accuracy_score(y_train_resampled, y_pred_train5)\n",
        "test_accuracy5 = accuracy_score(y_test, y_pred_test5)\n",
        "print(\"training accuracy of RFC : \",str(round(train_accuracy5*100,2)),'%')\n",
        "print(\"testing  accuracy of RFC : \",str(round(test_accuracy5*100,2)),'%')"
      ]
    },
    {
      "cell_type": "code",
      "execution_count": null,
      "metadata": {
        "id": "M_9Ms43sRaXc",
        "outputId": "64dd581c-c322-4ff9-fe77-e672b052e36a"
      },
      "outputs": [],
      "source": [
        "NBC = GaussianNB()\n",
        "multi_target_NBC = MultiOutputClassifier(NBC, n_jobs=-1)\n",
        "multi_target_NBC.fit(X_train_resampled, y_train_resampled)"
      ]
    },
    {
      "cell_type": "code",
      "execution_count": null,
      "metadata": {
        "id": "aybwZQYBRaXc"
      },
      "outputs": [],
      "source": [
        "y_pred_train6 =multi_target_NBC.predict(X_train_resampled)\n",
        "y_pred_test6 =multi_target_NBC.predict(x_test)"
      ]
    },
    {
      "cell_type": "code",
      "execution_count": null,
      "metadata": {
        "id": "2ocH8nTeRaXc",
        "outputId": "d1547e4e-6f0d-45da-939b-8f470708fe80"
      },
      "outputs": [],
      "source": [
        "train_accuracy6 = accuracy_score(y_train_resampled, y_pred_train6)\n",
        "test_accuracy6 = accuracy_score(y_test, y_pred_test6)\n",
        "print(\"training accuracy of NBC : \",str(round(train_accuracy6*100,2)),'%')\n",
        "print(\"testing  accuracy of NBC : \",str(round(test_accuracy6*100,2)),'%')"
      ]
    },
    {
      "cell_type": "markdown",
      "metadata": {
        "id": "UYm4I14hRaXc"
      },
      "source": [
        "## Evaluation the models"
      ]
    },
    {
      "cell_type": "code",
      "execution_count": null,
      "metadata": {},
      "outputs": [],
      "source": [
        "def inverse_onehot(y):\n",
        "    label_0=[]\n",
        "    label_1=[]\n",
        "    labels=[]\n",
        "    for i in range(len(y)):\n",
        "        if y[i][0]==0 and y[i][1]==1:\n",
        "            labels.append([1])\n",
        "        elif y[i][0]==1 and y[i][1]==0:\n",
        "            labels.append([0])\n",
        "    labels=np.array(labels)\n",
        "    return labels\n"
      ]
    },
    {
      "cell_type": "code",
      "execution_count": null,
      "metadata": {
        "id": "qz1yVihlRaXd"
      },
      "outputs": [],
      "source": [
        "# Generate classification report\n",
        "report1 = classification_report(y_test, y_pred_test1)\n",
        "print(\"classification report of LRC : \\n\")\n",
        "print(report1)"
      ]
    },
    {
      "cell_type": "code",
      "execution_count": null,
      "metadata": {},
      "outputs": [],
      "source": [
        "#inverse one hot encoder\n",
        "y_test1=inverse_onehot(y_test)\n",
        "y_pred_test1=inverse_onehot(y_pred_test1)"
      ]
    },
    {
      "cell_type": "code",
      "execution_count": null,
      "metadata": {
        "id": "uXMra2CZRaXd"
      },
      "outputs": [],
      "source": [
        "# Generate confusion matrix\n",
        "matrix1 = confusion_matrix(y_test1, y_pred_test1)\n",
        "# Plot confusion matrix as heatmap\n",
        "sns.heatmap(matrix1, annot=True, cmap=\"Blues\", fmt=\"d\")\n",
        "plt.xlabel('Predicted Label')\n",
        "plt.ylabel('True Label')\n",
        "plt.title('Confusion Matrix of LRC')\n",
        "plt.show()"
      ]
    },
    {
      "cell_type": "code",
      "execution_count": null,
      "metadata": {
        "id": "yOybhnN0RaXd"
      },
      "outputs": [],
      "source": [
        "# Generate classification report\n",
        "report2 = classification_report(y_test, y_pred_test2)\n",
        "print(\"classification report of SVC : \\n\")\n",
        "print(report2)"
      ]
    },
    {
      "cell_type": "code",
      "execution_count": null,
      "metadata": {},
      "outputs": [],
      "source": [
        "#inverse one hot encoder\n",
        "y_test2=inverse_onehot(y_test)\n",
        "y_pred_test2=inverse_onehot(y_pred_test2)"
      ]
    },
    {
      "cell_type": "code",
      "execution_count": null,
      "metadata": {
        "id": "UjYD3S5mRaXd"
      },
      "outputs": [],
      "source": [
        "# Generate confusion matrix\n",
        "matrix2 = confusion_matrix(y_test2, y_pred_test2)\n",
        "# Plot confusion matrix as heatmap\n",
        "sns.heatmap(matrix2, annot=True, cmap=\"Blues\", fmt=\"d\")\n",
        "plt.xlabel('Predicted Label')\n",
        "plt.ylabel('True Label')\n",
        "plt.title('Confusion Matrix of SVC')\n",
        "plt.show()"
      ]
    },
    {
      "cell_type": "code",
      "execution_count": null,
      "metadata": {
        "id": "7ptiJVHVRaXd"
      },
      "outputs": [],
      "source": [
        "# Generate classification report\n",
        "report3 = classification_report(y_test, y_pred_test3)\n",
        "print(\"classification report of DTC : \\n\")\n",
        "print(report3)"
      ]
    },
    {
      "cell_type": "code",
      "execution_count": null,
      "metadata": {},
      "outputs": [],
      "source": [
        "#inverse one hot encoder\n",
        "y_test3=inverse_onehot(y_test)\n",
        "y_pred_test3=inverse_onehot(y_pred_test3)"
      ]
    },
    {
      "cell_type": "code",
      "execution_count": null,
      "metadata": {
        "id": "pY2w8zTNRaXd"
      },
      "outputs": [],
      "source": [
        "# Generate confusion matrix\n",
        "matrix3 = confusion_matrix(y_test3, y_pred_test3)\n",
        "# Plot confusion matrix as heatmap\n",
        "sns.heatmap(matrix3, annot=True, cmap=\"Blues\", fmt=\"d\")\n",
        "plt.xlabel('Predicted Label')\n",
        "plt.ylabel('True Label')\n",
        "plt.title('Confusion Matrix of DTC')\n",
        "plt.show()"
      ]
    },
    {
      "cell_type": "code",
      "execution_count": null,
      "metadata": {
        "id": "sV8pxFFORaXd"
      },
      "outputs": [],
      "source": [
        "# Generate classification report\n",
        "report4 = classification_report(y_test, y_pred_test4)\n",
        "print(\"classification report of KNN : \\n\")\n",
        "print(report4)"
      ]
    },
    {
      "cell_type": "code",
      "execution_count": null,
      "metadata": {},
      "outputs": [],
      "source": [
        "#inverse one hot encoder\n",
        "y_test4=inverse_onehot(y_test)\n",
        "y_pred_test4=inverse_onehot(y_pred_test4)"
      ]
    },
    {
      "cell_type": "code",
      "execution_count": null,
      "metadata": {
        "id": "eIb7kA7fRaXe"
      },
      "outputs": [],
      "source": [
        "# Generate confusion matrix\n",
        "matrix4 = confusion_matrix(y_test4, y_pred_test4)\n",
        "# Plot confusion matrix as heatmap\n",
        "sns.heatmap(matrix4, annot=True, cmap=\"Blues\", fmt=\"d\")\n",
        "plt.xlabel('Predicted Label')\n",
        "plt.ylabel('True Label')\n",
        "plt.title('Confusion Matrix of KNN')\n",
        "plt.show()"
      ]
    },
    {
      "cell_type": "code",
      "execution_count": null,
      "metadata": {
        "id": "h9BreZAHRaXe"
      },
      "outputs": [],
      "source": [
        "# Generate classification report\n",
        "report5 = classification_report(y_test, y_pred_test5)\n",
        "print(\"classification report of RFC : \\n\")\n",
        "print(report5)"
      ]
    },
    {
      "cell_type": "code",
      "execution_count": null,
      "metadata": {},
      "outputs": [],
      "source": [
        "#inverse one hot encoder\n",
        "y_test5=inverse_onehot(y_test)\n",
        "y_pred_test5=inverse_onehot(y_pred_test5)"
      ]
    },
    {
      "cell_type": "code",
      "execution_count": null,
      "metadata": {
        "id": "IGbFEwkORaXe"
      },
      "outputs": [],
      "source": [
        "# Generate confusion matrix\n",
        "matrix5 = confusion_matrix(y_test5, y_pred_test5)\n",
        "# Plot confusion matrix as heatmap\n",
        "sns.heatmap(matrix5, annot=True, cmap=\"Blues\", fmt=\"d\")\n",
        "plt.xlabel('Predicted Label')\n",
        "plt.ylabel('True Label')\n",
        "plt.title('Confusion Matrix of RFC')\n",
        "plt.show()"
      ]
    },
    {
      "cell_type": "code",
      "execution_count": null,
      "metadata": {
        "id": "fPO_FU9-RaXe"
      },
      "outputs": [],
      "source": [
        "# Generate classification report\n",
        "report6 = classification_report(y_test, y_pred_test6)\n",
        "print(\"classification report of NBC : \\n\")\n",
        "print(report6)"
      ]
    },
    {
      "cell_type": "code",
      "execution_count": null,
      "metadata": {},
      "outputs": [],
      "source": [
        "#inverse one hot encoder\n",
        "y_test6=inverse_onehot(y_test)\n",
        "y_pred_test6=inverse_onehot(y_pred_test6)"
      ]
    },
    {
      "cell_type": "code",
      "execution_count": null,
      "metadata": {
        "id": "g8Wr3J41RaXe"
      },
      "outputs": [],
      "source": [
        "# Generate confusion matrix\n",
        "matrix6 = confusion_matrix(y_test6, y_pred_test6)\n",
        "# Plot confusion matrix as heatmap\n",
        "sns.heatmap(matrix6, annot=True, cmap=\"Blues\", fmt=\"d\")\n",
        "plt.xlabel('Predicted Label')\n",
        "plt.ylabel('True Label')\n",
        "plt.title('Confusion Matrix of NBC')\n",
        "plt.show()"
      ]
    },
    {
      "cell_type": "markdown",
      "metadata": {
        "id": "CTMR2fcSRaXe"
      },
      "source": [
        "## Save the models"
      ]
    },
    {
      "cell_type": "code",
      "execution_count": null,
      "metadata": {
        "id": "Cj9CoNxaRaXe"
      },
      "outputs": [],
      "source": [
        "pickle.dump(multi_target_lrc,open('LRC_model.pkl','wb'))"
      ]
    },
    {
      "cell_type": "code",
      "execution_count": null,
      "metadata": {
        "id": "eVIF6YmDVoe9"
      },
      "outputs": [],
      "source": [
        "pickle.dump(multi_target_svc,open('SVC_model.pkl','wb'))"
      ]
    },
    {
      "cell_type": "code",
      "execution_count": null,
      "metadata": {
        "id": "tkCowVUWVorG"
      },
      "outputs": [],
      "source": [
        "pickle.dump(multi_target_DTC,open('DTC_model.pkl','wb'))"
      ]
    },
    {
      "cell_type": "code",
      "execution_count": null,
      "metadata": {
        "id": "HvVVNFPZVo4k"
      },
      "outputs": [],
      "source": [
        "pickle.dump(multi_target_KNN,open('KNN_model.pkl','wb'))"
      ]
    },
    {
      "cell_type": "code",
      "execution_count": null,
      "metadata": {
        "id": "r1Bp7R70VvxT"
      },
      "outputs": [],
      "source": [
        "pickle.dump(multi_target_RFC,open('RFC_model.pkl','wb'))"
      ]
    },
    {
      "cell_type": "code",
      "execution_count": null,
      "metadata": {
        "id": "ANAhgUPWVwWR"
      },
      "outputs": [],
      "source": [
        "pickle.dump(multi_target_NBC,open('NBC_model.pkl','wb'))"
      ]
    },
    {
      "cell_type": "markdown",
      "metadata": {},
      "source": [
        "## Load the models"
      ]
    },
    {
      "cell_type": "code",
      "execution_count": null,
      "metadata": {},
      "outputs": [],
      "source": [
        "def load_models():\n",
        "    file = open(r'models\\LRC_model.pkl', 'rb')\n",
        "    LRC= pickle.load(file)   \n",
        "    file = open(r'models\\SVC_model.pkl', 'rb')\n",
        "    SVC= pickle.load(file) \n",
        "    file = open(r'models\\DTC_model.pkl', 'rb')\n",
        "    DTC= pickle.load(file) \n",
        "    file = open(r'models\\KNN_model.pkl', 'rb')\n",
        "    KNN= pickle.load(file) \n",
        "    file = open(r'models\\RFC_model.pkl', 'rb')\n",
        "    RFC= pickle.load(file)\n",
        "    file = open(r'models\\NBC_model.pkl', 'rb')\n",
        "    NBC= pickle.load(file) \n",
        "    return LRC,SVC,DTC,KNN,RFC,NBC  "
      ]
    },
    {
      "cell_type": "code",
      "execution_count": null,
      "metadata": {},
      "outputs": [],
      "source": [
        "LRC,SVC,DTC,KNN,RFC,NBC =load_models()"
      ]
    },
    {
      "cell_type": "code",
      "execution_count": null,
      "metadata": {},
      "outputs": [],
      "source": []
    }
  ],
  "metadata": {
    "colab": {
      "provenance": []
    },
    "kernelspec": {
      "display_name": "Python 3",
      "language": "python",
      "name": "python3"
    },
    "language_info": {
      "codemirror_mode": {
        "name": "ipython",
        "version": 3
      },
      "file_extension": ".py",
      "mimetype": "text/x-python",
      "name": "python",
      "nbconvert_exporter": "python",
      "pygments_lexer": "ipython3",
      "version": "3.11.7"
    }
  },
  "nbformat": 4,
  "nbformat_minor": 0
}
